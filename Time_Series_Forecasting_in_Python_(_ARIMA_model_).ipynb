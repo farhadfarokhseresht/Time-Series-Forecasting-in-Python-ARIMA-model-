{
  "cells": [
    {
      "cell_type": "markdown",
      "metadata": {
        "id": "view-in-github",
        "colab_type": "text"
      },
      "source": [
        "<a href=\"https://colab.research.google.com/github/farhadfarokhseresht/Time-Series-Forecasting-in-Python-ARIMA-model-/blob/main/Time_Series_Forecasting_in_Python_(_ARIMA_model_).ipynb\" target=\"_parent\"><img src=\"https://colab.research.google.com/assets/colab-badge.svg\" alt=\"Open In Colab\"/></a>"
      ]
    },
    {
      "cell_type": "markdown",
      "metadata": {
        "id": "bgP6Fr95WPNd"
      },
      "source": [
        "**Introduction to ARIMA Models**\n",
        "\n",
        "ARIMA, short for ‘Auto Regressive Integrated Moving Average’ is actually a class of models that ‘explains’ a given time series based on its own past values, that is, its own lags and the lagged forecast errors, so that equation can be used to forecast future values.\n",
        "\n",
        "An ARIMA model is characterized by 3 terms: `p, d, q`\n",
        "\n",
        "where,\n",
        "\n",
        "* `p` is the order of the AR term\n",
        "\n",
        "* `q` is the order of the MA term\n",
        "\n",
        "* `d` is the number of differencing required to make the time series stationary\n"
      ]
    },
    {
      "cell_type": "markdown",
      "metadata": {
        "id": "KCHXWjW5chH_"
      },
      "source": [
        "The **first step** to build an ARIMA model is to make the time series stationary."
      ]
    },
    {
      "cell_type": "markdown",
      "metadata": {
        "id": "iyc_z8mYrWt9"
      },
      "source": [
        "The most common approach is to difference it. That is, subtract the previous value from the current value. Sometimes, depending on the complexity of the series, more than one differencing may be needed."
      ]
    },
    {
      "cell_type": "markdown",
      "metadata": {
        "id": "CnejkNwFrObW"
      },
      "source": [
        "Why?\n",
        "\n",
        "Because, term ‘Auto Regressive’ in ARIMA means it is a linear regression model that uses its own lags as predictors. Linear regression models, as you know, work best when the predictors are not correlated and are independent of each other."
      ]
    },
    {
      "cell_type": "markdown",
      "metadata": {
        "id": "Hem7XsEWcnph"
      },
      "source": [
        "**What does the p, d and q in ARIMA model mean**"
      ]
    },
    {
      "cell_type": "markdown",
      "metadata": {
        "id": "qUuPMnKWr68V"
      },
      "source": [
        "The **value** of **`d`**, therefore, is the minimum number of differencing needed to make the series stationary. And if the time series is already stationary, then**` d = 0.`**"
      ]
    },
    {
      "cell_type": "markdown",
      "metadata": {
        "id": "3O-FTLKJWubN"
      },
      "source": [
        "**`‘p’`** is the order of the ‘Auto Regressive’ (AR) term. It refers to the number of lags of Y to be used as predictors. And **`‘q’`** is the order of the ‘Moving Average’ (MA) term. It refers to the number of lagged forecast errors that should go into the ARIMA Model."
      ]
    },
    {
      "cell_type": "markdown",
      "metadata": {
        "id": "g3tGEfGtfEr8"
      },
      "source": [
        "**How to find the order of differencing (d) in ARIMA model**"
      ]
    },
    {
      "cell_type": "markdown",
      "metadata": {
        "id": "FyVImvtZ7XUQ"
      },
      "source": [
        "requirements - پیش نیازها"
      ]
    },
    {
      "cell_type": "code",
      "execution_count": 1,
      "metadata": {
        "id": "Qq8CGIKvqBz6",
        "colab": {
          "base_uri": "https://localhost:8080/"
        },
        "outputId": "9e6f37f5-5bdc-491e-8c4c-198fed567e9b"
      },
      "outputs": [
        {
          "output_type": "stream",
          "name": "stderr",
          "text": [
            "/usr/local/lib/python3.7/dist-packages/statsmodels/tools/_testing.py:19: FutureWarning: pandas.util.testing is deprecated. Use the functions in the public API at pandas.testing instead.\n",
            "  import pandas.util.testing as tm\n"
          ]
        }
      ],
      "source": [
        "import pandas as pd\n",
        "import os\n",
        "import glob\n",
        "import numpy as np\n",
        "from statsmodels.graphics.tsaplots import plot_acf, plot_pacf\n",
        "import matplotlib.pyplot as plt\n",
        "# plt.rcParams.update({'figure.figsize':(9,7), 'figure.dpi':60})"
      ]
    },
    {
      "cell_type": "markdown",
      "metadata": {
        "id": "Y53U5KFm62DQ"
      },
      "source": [
        "# Read & Preprocessing Data\n",
        "خواندن و آماده سازی داده ها\n"
      ]
    },
    {
      "cell_type": "code",
      "source": [
        "xls = pd.ExcelFile('path_to_file.xls')\n",
        "df1 = pd.read_excel(xls, 'Sheet1')\n",
        "df2 = pd.read_excel(xls, 'Sheet2')"
      ],
      "metadata": {
        "id": "AGQFWMcAO1e3"
      },
      "execution_count": null,
      "outputs": []
    },
    {
      "cell_type": "code",
      "execution_count": 3,
      "metadata": {
        "id": "XVy5Knww60wR"
      },
      "outputs": [],
      "source": [
        "# use glob to get all the xlsx files\n",
        "# in the folder\n",
        "path = os.getcwd()\n",
        "xlsx_files = glob.glob(os.path.join(path, \"*.xlsx\"))\n",
        "frames = []\n",
        "# loop over the list of xlsx files \n",
        "for f in xlsx_files:\n",
        "    # read the xlsx file\n",
        "    df = pd.read_excel(f)\n",
        "    df['Year'] = int(f[f.index('.')-4:f.index('.')])\n",
        "    df['state'] = f[f.find('t/')+2:f.index('2')]\n",
        "    frames.append(df)\n",
        "\n",
        "data = pd.concat(frames)\n",
        "# Export\n",
        "Export = data[data.state == 'Export']\n",
        "Export =  Export[['principle','TEUs','Year']]\n",
        "Export = Export.rename(columns={\"principle\": \"bandar\"})\n",
        "# Importation\n",
        "Importation = data[data.state != 'Export']\n",
        "Importation =  Importation[['Destination','TEUs','Year']]\n",
        "Importation = Importation.rename(columns={\"Destination\": \"bandar\"})"
      ]
    },
    {
      "cell_type": "code",
      "execution_count": null,
      "metadata": {
        "id": "KGjvJ7r4RUtu"
      },
      "outputs": [],
      "source": [
        "Export = Export.groupby(['bandar','Year']).sum()\n",
        "Export['type'] = 'Export'\n",
        "Importation = Importation.groupby(['bandar','Year']).sum()\n",
        "Importation['type'] = 'Importation'\n",
        "data = pd.concat([Export,Importation])\n",
        "data = data.reset_index()\n",
        "data.Year = data.Year.map(lambda x: str(x)+'-01-01')\n",
        "data"
      ]
    },
    {
      "cell_type": "markdown",
      "metadata": {
        "id": "6ruiawogSsre"
      },
      "source": [
        "# Data analysis (model identification)\n",
        " تجزیه و تحلیل داده ها  ( شناسایی مدل ) "
      ]
    },
    {
      "cell_type": "code",
      "execution_count": 5,
      "metadata": {
        "colab": {
          "base_uri": "https://localhost:8080/"
        },
        "id": "dPlawqD4t6TN",
        "outputId": "8dec3ac0-1ca4-4d0d-979e-a5302866f83e"
      },
      "outputs": [
        {
          "output_type": "execute_result",
          "data": {
            "text/plain": [
              "{'Asaluyeh Port', 'Bushehr Port', 'Ganaveh Port'}"
            ]
          },
          "metadata": {},
          "execution_count": 5
        }
      ],
      "source": [
        "banader = set(data.bandar)\n",
        "banader"
      ]
    },
    {
      "cell_type": "code",
      "execution_count": 6,
      "metadata": {
        "colab": {
          "base_uri": "https://localhost:8080/",
          "height": 290
        },
        "id": "JCbVqwyj2j_n",
        "outputId": "1dad12aa-dd4d-4835-beb9-23ff4fb85807"
      },
      "outputs": [
        {
          "output_type": "display_data",
          "data": {
            "text/plain": [
              "<Figure size 432x288 with 1 Axes>"
            ],
            "image/png": "[encoded data removed]"
          },
          "metadata": {
            "needs_background": "light"
          }
        }
      ],
      "source": [
        "# Export plot\n",
        "option  = {'Asaluyeh Port':['red','o'], 'Bushehr Port':['black','*'], 'Ganaveh Port':['blue','x']}\n",
        "for item in banader:\n",
        "  optionset = option[item]\n",
        "  port = item\n",
        "  typ = 'Export'\n",
        "  df = data[data.bandar== port]\n",
        "  df = df[df['type']==typ]\n",
        "  # Changing the datatype\n",
        "  df.Year = df.Year.astype('datetime64[ns]')\n",
        "  pd.to_datetime(df.index, format = '%Y/%m/%d')\n",
        "  # Setting the Date as index\n",
        "  df = df.set_index(\"Year\")\n",
        "  # plot\n",
        "  plt.plot(df[\"TEUs\"], color =optionset[0],label= item)\n",
        "\n",
        "# Labelling \n",
        "plt.xlabel(\"ِDate\")\n",
        "plt.ylabel(\"TEUs\")\n",
        "plt.legend()\n",
        "\n",
        "plt.show() "
      ]
    },
    {
      "cell_type": "code",
      "execution_count": 7,
      "metadata": {
        "colab": {
          "base_uri": "https://localhost:8080/",
          "height": 295
        },
        "id": "CKTdWONAsPZe",
        "outputId": "ccbcfd78-2388-4035-ca93-149a26ad5198"
      },
      "outputs": [
        {
          "output_type": "display_data",
          "data": {
            "text/plain": [
              "<Figure size 432x288 with 1 Axes>"
            ],
            "image/png": "[encoded data removed]"
          },
          "metadata": {
            "needs_background": "light"
          }
        }
      ],
      "source": [
        "# Export - Bushehr Port\n",
        "port = 'Bushehr Port'\n",
        "typ = 'Export'\n",
        "\n",
        "\n",
        "df = data[data.bandar== port]\n",
        "df = df[df['type']==typ]\n",
        "\n",
        "# Changing the datatype\n",
        "df.Year = df.Year.astype('datetime64[ns]')\n",
        "# Setting the Date as index\n",
        "df = df.set_index(\"Year\")\n",
        "# Plot\n",
        "plt.plot(df[\"TEUs\"], marker='o')\n",
        "# Labelling \n",
        "plt.xlabel(\"ِDate\")\n",
        "plt.ylabel(\"{} TEUs\".format(typ))\n",
        "plt.title(\"{} TEUs for {} \".format(typ,port))\n",
        "\n",
        "# Display\n",
        "\n",
        "plt.show()"
      ]
    },
    {
      "cell_type": "code",
      "source": [
        "df= df.drop('2020-01-01')\n",
        "# Plot\n",
        "plt.plot(df[\"TEUs\"], marker='o')\n",
        "# Labelling \n",
        "plt.xlabel(\"ِDate\")\n",
        "plt.ylabel(\"{} TEUs\".format(typ))\n",
        "plt.title(\"{} TEUs for {} \".format(typ,port))\n",
        "\n",
        "# Display\n",
        "\n",
        "plt.show()"
      ],
      "metadata": {
        "colab": {
          "base_uri": "https://localhost:8080/",
          "height": 295
        },
        "id": "lirPf-XrDBDp",
        "outputId": "9e24a80e-a451-4005-8c08-2b37b3d018bf"
      },
      "execution_count": 8,
      "outputs": [
        {
          "output_type": "display_data",
          "data": {
            "text/plain": [
              "<Figure size 432x288 with 1 Axes>"
            ],
            "image/png": "[encoded data removed]"
          },
          "metadata": {
            "needs_background": "light"
          }
        }
      ]
    },
    {
      "cell_type": "code",
      "source": [
        "# import modules\n",
        "import numpy as np\n",
        "from scipy import stats\n",
        " \n",
        "# plotting modules\n",
        "import seaborn as sns\n",
        "import matplotlib.pyplot as plt\n",
        " \n",
        "# generate non-normal data (exponential)\n",
        "original_data = df[\"TEUs\"]\n",
        " \n",
        "# transform training data & save lambda value\n",
        "fitted_data, fitted_lambda = stats.boxcox(original_data)\n",
        " \n",
        "# creating axes to draw plots\n",
        "fig, ax = plt.subplots(1, 2)\n",
        " \n",
        "# plotting the original data(non-normal) and\n",
        "# fitted data (normal)\n",
        "sns.distplot(original_data, hist = False, kde = True,\n",
        "            kde_kws = {'shade': True, 'linewidth': 2},\n",
        "            label = \"Non-Normal\", color =\"green\", ax = ax[0])\n",
        " \n",
        "sns.distplot(fitted_data, hist = False, kde = True,\n",
        "            kde_kws = {'shade': True, 'linewidth': 2},\n",
        "            label = \"Normal\", color =\"green\", ax = ax[1])\n",
        " \n",
        "# adding legends to the subplots\n",
        "plt.legend(loc = \"upper right\")\n",
        " \n",
        "# rescaling the subplots\n",
        "fig.set_figheight(5)\n",
        "fig.set_figwidth(10)\n",
        " \n",
        "print(f\"Lambda value used for Transformation: {fitted_lambda}\")"
      ],
      "metadata": {
        "id": "n9s-3pec8dif"
      },
      "execution_count": null,
      "outputs": []
    },
    {
      "cell_type": "code",
      "source": [
        "df"
      ],
      "metadata": {
        "colab": {
          "base_uri": "https://localhost:8080/",
          "height": 363
        },
        "id": "vkrt3FNPOqVQ",
        "outputId": "c2c53414-5617-40dd-f8a2-1f0fd8dcf690"
      },
      "execution_count": 30,
      "outputs": [
        {
          "output_type": "execute_result",
          "data": {
            "text/plain": [
              "                  bandar       TEUs    type\n",
              "Year                                       \n",
              "2010-01-01  Bushehr Port   611471.0  Export\n",
              "2011-01-01  Bushehr Port  1615600.0  Export\n",
              "2013-01-01  Bushehr Port    93900.0  Export\n",
              "2014-01-01  Bushehr Port  3101348.0  Export\n",
              "2015-01-01  Bushehr Port   975064.0  Export\n",
              "2016-01-01  Bushehr Port  2215095.0  Export\n",
              "2017-01-01  Bushehr Port  4946747.0  Export\n",
              "2018-01-01  Bushehr Port   194430.0  Export\n",
              "2019-01-01  Bushehr Port  3075466.0  Export"
            ],
            "text/html": [
              "\n",
              "  <div id=\"df-2a4f2ca0-6d28-4941-b8cb-cdcbbe91536d\">\n",
              "    <div class=\"colab-df-container\">\n",
              "      <div>\n",
              "<style scoped>\n",
              "    .dataframe tbody tr th:only-of-type {\n",
              "        vertical-align: middle;\n",
              "    }\n",
              "\n",
              "    .dataframe tbody tr th {\n",
              "        vertical-align: top;\n",
              "    }\n",
              "\n",
              "    .dataframe thead th {\n",
              "        text-align: right;\n",
              "    }\n",
              "</style>\n",
              "<table border=\"1\" class=\"dataframe\">\n",
              "  <thead>\n",
              "    <tr style=\"text-align: right;\">\n",
              "      <th></th>\n",
              "      <th>bandar</th>\n",
              "      <th>TEUs</th>\n",
              "      <th>type</th>\n",
              "    </tr>\n",
              "    <tr>\n",
              "      <th>Year</th>\n",
              "      <th></th>\n",
              "      <th></th>\n",
              "      <th></th>\n",
              "    </tr>\n",
              "  </thead>\n",
              "  <tbody>\n",
              "    <tr>\n",
              "      <th>2010-01-01</th>\n",
              "      <td>Bushehr Port</td>\n",
              "      <td>611471.0</td>\n",
              "      <td>Export</td>\n",
              "    </tr>\n",
              "    <tr>\n",
              "      <th>2011-01-01</th>\n",
              "      <td>Bushehr Port</td>\n",
              "      <td>1615600.0</td>\n",
              "      <td>Export</td>\n",
              "    </tr>\n",
              "    <tr>\n",
              "      <th>2013-01-01</th>\n",
              "      <td>Bushehr Port</td>\n",
              "      <td>93900.0</td>\n",
              "      <td>Export</td>\n",
              "    </tr>\n",
              "    <tr>\n",
              "      <th>2014-01-01</th>\n",
              "      <td>Bushehr Port</td>\n",
              "      <td>3101348.0</td>\n",
              "      <td>Export</td>\n",
              "    </tr>\n",
              "    <tr>\n",
              "      <th>2015-01-01</th>\n",
              "      <td>Bushehr Port</td>\n",
              "      <td>975064.0</td>\n",
              "      <td>Export</td>\n",
              "    </tr>\n",
              "    <tr>\n",
              "      <th>2016-01-01</th>\n",
              "      <td>Bushehr Port</td>\n",
              "      <td>2215095.0</td>\n",
              "      <td>Export</td>\n",
              "    </tr>\n",
              "    <tr>\n",
              "      <th>2017-01-01</th>\n",
              "      <td>Bushehr Port</td>\n",
              "      <td>4946747.0</td>\n",
              "      <td>Export</td>\n",
              "    </tr>\n",
              "    <tr>\n",
              "      <th>2018-01-01</th>\n",
              "      <td>Bushehr Port</td>\n",
              "      <td>194430.0</td>\n",
              "      <td>Export</td>\n",
              "    </tr>\n",
              "    <tr>\n",
              "      <th>2019-01-01</th>\n",
              "      <td>Bushehr Port</td>\n",
              "      <td>3075466.0</td>\n",
              "      <td>Export</td>\n",
              "    </tr>\n",
              "  </tbody>\n",
              "</table>\n",
              "</div>\n",
              "      <button class=\"colab-df-convert\" onclick=\"convertToInteractive('df-2a4f2ca0-6d28-4941-b8cb-cdcbbe91536d')\"\n",
              "              title=\"Convert this dataframe to an interactive table.\"\n",
              "              style=\"display:none;\">\n",
              "        \n",
              "  <svg xmlns=\"http://www.w3.org/2000/svg\" height=\"24px\"viewBox=\"0 0 24 24\"\n",
              "       width=\"24px\">\n",
              "    <path d=\"M0 0h24v24H0V0z\" fill=\"none\"/>\n",
              "    <path d=\"M18.56 5.44l.94 2.06.94-2.06 2.06-.94-2.06-.94-.94-2.06-.94 2.06-2.06.94zm-11 1L8.5 8.5l.94-2.06 2.06-.94-2.06-.94L8.5 2.5l-.94 2.06-2.06.94zm10 10l.94 2.06.94-2.06 2.06-.94-2.06-.94-.94-2.06-.94 2.06-2.06.94z\"/><path d=\"M17.41 7.96l-1.37-1.37c-.4-.4-.92-.59-1.43-.59-.52 0-1.04.2-1.43.59L10.3 9.45l-7.72 7.72c-.78.78-.78 2.05 0 2.83L4 21.41c.39.39.9.59 1.41.59.51 0 1.02-.2 1.41-.59l7.78-7.78 2.81-2.81c.8-.78.8-2.07 0-2.86zM5.41 20L4 18.59l7.72-7.72 1.47 1.35L5.41 20z\"/>\n",
              "  </svg>\n",
              "      </button>\n",
              "      \n",
              "  <style>\n",
              "    .colab-df-container {\n",
              "      display:flex;\n",
              "      flex-wrap:wrap;\n",
              "      gap: 12px;\n",
              "    }\n",
              "\n",
              "    .colab-df-convert {\n",
              "      background-color: #E8F0FE;\n",
              "      border: none;\n",
              "      border-radius: 50%;\n",
              "      cursor: pointer;\n",
              "      display: none;\n",
              "      fill: #1967D2;\n",
              "      height: 32px;\n",
              "      padding: 0 0 0 0;\n",
              "      width: 32px;\n",
              "    }\n",
              "\n",
              "    .colab-df-convert:hover {\n",
              "      background-color: #E2EBFA;\n",
              "      box-shadow: 0px 1px 2px rgba(60, 64, 67, 0.3), 0px 1px 3px 1px rgba(60, 64, 67, 0.15);\n",
              "      fill: #174EA6;\n",
              "    }\n",
              "\n",
              "    [theme=dark] .colab-df-convert {\n",
              "      background-color: #3B4455;\n",
              "      fill: #D2E3FC;\n",
              "    }\n",
              "\n",
              "    [theme=dark] .colab-df-convert:hover {\n",
              "      background-color: #434B5C;\n",
              "      box-shadow: 0px 1px 3px 1px rgba(0, 0, 0, 0.15);\n",
              "      filter: drop-shadow(0px 1px 2px rgba(0, 0, 0, 0.3));\n",
              "      fill: #FFFFFF;\n",
              "    }\n",
              "  </style>\n",
              "\n",
              "      <script>\n",
              "        const buttonEl =\n",
              "          document.querySelector('#df-2a4f2ca0-6d28-4941-b8cb-cdcbbe91536d button.colab-df-convert');\n",
              "        buttonEl.style.display =\n",
              "          google.colab.kernel.accessAllowed ? 'block' : 'none';\n",
              "\n",
              "        async function convertToInteractive(key) {\n",
              "          const element = document.querySelector('#df-2a4f2ca0-6d28-4941-b8cb-cdcbbe91536d');\n",
              "          const dataTable =\n",
              "            await google.colab.kernel.invokeFunction('convertToInteractive',\n",
              "                                                     [key], {});\n",
              "          if (!dataTable) return;\n",
              "\n",
              "          const docLinkHtml = 'Like what you see? Visit the ' +\n",
              "            '<a target=\"_blank\" href=https://colab.research.google.com/notebooks/data_table.ipynb>data table notebook</a>'\n",
              "            + ' to learn more about interactive tables.';\n",
              "          element.innerHTML = '';\n",
              "          dataTable['output_type'] = 'display_data';\n",
              "          await google.colab.output.renderOutput(dataTable, element);\n",
              "          const docLink = document.createElement('div');\n",
              "          docLink.innerHTML = docLinkHtml;\n",
              "          element.appendChild(docLink);\n",
              "        }\n",
              "      </script>\n",
              "    </div>\n",
              "  </div>\n",
              "  "
            ]
          },
          "metadata": {},
          "execution_count": 30
        }
      ]
    },
    {
      "cell_type": "code",
      "source": [
        "# df[\"TEUs\"] = original_data\n",
        "# # Plot\n",
        "# plt.plot(df[\"TEUs\"], marker='o')\n",
        "# # Labelling \n",
        "# plt.xlabel(\"ِDate\")\n",
        "# plt.ylabel(\"{} TEUs\".format(typ))\n",
        "# plt.title(\"{} TEUs for {} \".format(typ,port))\n",
        "\n",
        "# # Display\n",
        "\n",
        "# plt.show()"
      ],
      "metadata": {
        "id": "W-kwk-ApCSAr"
      },
      "execution_count": 107,
      "outputs": []
    },
    {
      "cell_type": "markdown",
      "metadata": {
        "id": "SAUvOudf9rzS"
      },
      "source": [
        "**find the order of differencing (d) in ARIMA model**"
      ]
    },
    {
      "cell_type": "markdown",
      "metadata": {
        "id": "Onx_bbWR-feS"
      },
      "source": [
        "So how to determine the right order of differencing?\n",
        "\n",
        "The right order of differencing is the minimum differencing required to get a near-stationary series which roams around a defined mean and the ACF plot reaches to zero fairly quick."
      ]
    },
    {
      "cell_type": "markdown",
      "metadata": {
        "id": "biXCBrZ4-9-j"
      },
      "source": [
        "we check if the series is stationary using the Augmented Dickey Fuller test (`adfuller()`), from the **statsmodels** package.\n",
        "\n",
        "Because, you need differencing only if the series is non-stationary. Else, no differencing is needed, that is, `d=0`.\n",
        "\n",
        "https://www.machinelearningplus.com/time-series/augmented-dickey-fuller-test/"
      ]
    },
    {
      "cell_type": "markdown",
      "metadata": {
        "id": "1CigpqEi__LM"
      },
      "source": [
        "The null hypothesis of the ADF test is that the time series is non-stationary. So, if the p-value of the test is less than the significance level (0.05) then you reject the null hypothesis and infer that the time series is indeed stationary"
      ]
    },
    {
      "cell_type": "markdown",
      "metadata": {
        "id": "_f2isW61ACaC"
      },
      "source": [
        "So, in our case, if P Value > 0.05 we go ahead with finding the order of differencing."
      ]
    },
    {
      "cell_type": "code",
      "execution_count": 9,
      "metadata": {
        "colab": {
          "base_uri": "https://localhost:8080/"
        },
        "id": "2iSDeCN4_j_j",
        "outputId": "04baf39a-c156-4b56-d710-36e0be6f16f8"
      },
      "outputs": [
        {
          "output_type": "stream",
          "name": "stdout",
          "text": [
            "ADF Statistic: -1.184659\n",
            "p-value: 0.680160\n"
          ]
        }
      ],
      "source": [
        "from statsmodels.tsa.stattools import adfuller\n",
        "from numpy import log\n",
        "result = adfuller(df.TEUs.dropna())\n",
        "print('ADF Statistic: %f' % result[0])\n",
        "print('p-value: %f' % result[1])"
      ]
    },
    {
      "cell_type": "markdown",
      "metadata": {
        "id": "l2F5FeDVAX9s"
      },
      "source": [
        "Since P-value is greater than the significance level, let’s difference the series and see how the autocorrelation plot looks like."
      ]
    },
    {
      "cell_type": "code",
      "execution_count": 14,
      "metadata": {
        "colab": {
          "base_uri": "https://localhost:8080/",
          "height": 1000
        },
        "id": "x-16aylyAHPe",
        "outputId": "54e1a6c7-c8b0-4bc4-a8d6-3c944069b5de"
      },
      "outputs": [
        {
          "output_type": "display_data",
          "data": {
            "text/plain": [
              "<Figure size 420x300 with 1 Axes>"
            ],
            "image/png": "[encoded data removed]"
          },
          "metadata": {
            "needs_background": "light"
          }
        },
        {
          "output_type": "display_data",
          "data": {
            "text/plain": [
              "<Figure size 420x300 with 1 Axes>"
            ],
            "image/png": "[encoded data removed]"
          },
          "metadata": {
            "needs_background": "light"
          }
        },
        {
          "output_type": "display_data",
          "data": {
            "text/plain": [
              "<Figure size 420x300 with 1 Axes>"
            ],
            "image/png": "[encoded data removed]"
          },
          "metadata": {
            "needs_background": "light"
          }
        },
        {
          "output_type": "display_data",
          "data": {
            "text/plain": [
              "<Figure size 420x300 with 1 Axes>"
            ],
            "image/png": "[encoded data removed]"
          },
          "metadata": {
            "needs_background": "light"
          }
        },
        {
          "output_type": "display_data",
          "data": {
            "text/plain": [
              "<Figure size 420x300 with 1 Axes>"
            ],
            "image/png": "[encoded data removed]"
          },
          "metadata": {
            "needs_background": "light"
          }
        },
        {
          "output_type": "display_data",
          "data": {
            "text/plain": [
              "<Figure size 420x300 with 1 Axes>"
            ],
            "image/png": "[encoded data removed]"
          },
          "metadata": {
            "needs_background": "light"
          }
        }
      ],
      "source": [
        "import numpy as np, pandas as pd\n",
        "from statsmodels.graphics.tsaplots import plot_acf, plot_pacf\n",
        "import matplotlib.pyplot as plt\n",
        "plt.rcParams.update({'figure.figsize':(7,5), 'figure.dpi':60})\n",
        "\n",
        "# Original Series\n",
        "plt.plot(df.TEUs)\n",
        "plt.title('Original Series')\n",
        "plot_acf(df.TEUs)\n",
        "plt.show()\n",
        "# n st Differencing\n",
        "n = 1\n",
        "plt.plot(df.TEUs.diff(n))\n",
        "plt.title('{}st Order Differencing'.format(n))\n",
        "plot_acf(df.TEUs.diff(n).dropna())\n",
        "plt.show()\n",
        "\n",
        "n = 2\n",
        "plt.plot(df.TEUs.diff(n))\n",
        "plt.title('{}st Order Differencing'.format(n))\n",
        "plot_acf(df.TEUs.diff(n).dropna())\n",
        "plt.show()"
      ]
    },
    {
      "cell_type": "markdown",
      "metadata": {
        "id": "0B0ueKxTwawd"
      },
      "source": [
        "**Order of Differencing**\n"
      ]
    },
    {
      "cell_type": "markdown",
      "metadata": {
        "id": "34ALGcUtpE9e"
      },
      "source": [
        "For the above series, the time series reaches stationarity with one orders of differencing. But on looking at the autocorrelation plot for the 2nd differencing the lag goes into the far negative zone fairly quick, which indicates, the series might have been over differenced.\n",
        "\n",
        "So, I am going to tentatively fix the order of differencing as 1 even though the series is not perfectly stationary (weak stationarity)."
      ]
    },
    {
      "cell_type": "code",
      "source": [
        "pip install pmdarima"
      ],
      "metadata": {
        "id": "jz45b_bpH01R"
      },
      "execution_count": null,
      "outputs": []
    },
    {
      "cell_type": "code",
      "source": [
        "from pmdarima.arima.utils import ndiffs\n",
        "y = df.TEUs\n",
        "\n",
        "## Adf Test\n",
        "Adf = ndiffs(y, test='adf') \n",
        "\n",
        "# KPSS test\n",
        "KPSS = ndiffs(y, test='kpss')  \n",
        "\n",
        "# PP test:\n",
        "PP = ndiffs(y, test='pp') \n",
        "\n",
        "print(Adf,KPSS,PP)"
      ],
      "metadata": {
        "colab": {
          "base_uri": "https://localhost:8080/"
        },
        "id": "cX8fc7TpHuYj",
        "outputId": "f3e8d6cf-a18a-4b38-ebab-62cfcfc5c84f"
      },
      "execution_count": 12,
      "outputs": [
        {
          "output_type": "stream",
          "name": "stdout",
          "text": [
            "1 0 2\n"
          ]
        }
      ]
    },
    {
      "cell_type": "markdown",
      "metadata": {
        "id": "87OMwWaar5_C"
      },
      "source": [
        "**How to find the order of the AR term (p)**"
      ]
    },
    {
      "cell_type": "markdown",
      "metadata": {
        "id": "ahRBnGRbAuPc"
      },
      "source": [
        "The next step is to identify if the model needs any AR terms. You can find out the required number of AR terms by inspecting the Partial Autocorrelation (PACF) plot."
      ]
    },
    {
      "cell_type": "markdown",
      "metadata": {
        "id": "tN2BDQaKA3Nc"
      },
      "source": [
        "Partial autocorrelation can be imagined as the correlation between the series and its lag, after excluding the contributions from the intermediate lags. So, PACF sort of conveys the pure correlation between a lag and the series. That way, you will know if that lag is needed in the AR term or not."
      ]
    },
    {
      "cell_type": "code",
      "source": [
        "# PACF plot \n",
        "n = 5\n",
        "plt.plot(df.TEUs.diff(n))\n",
        "\n",
        "plot_pacf(df.TEUs.diff(n))\n",
        "\n",
        "plt.show()"
      ],
      "metadata": {
        "id": "4rWCiupQ-QN0"
      },
      "execution_count": null,
      "outputs": []
    },
    {
      "cell_type": "markdown",
      "source": [
        "**find the order of the MA term (q)**"
      ],
      "metadata": {
        "id": "lBEf9ry1nC41"
      }
    },
    {
      "cell_type": "markdown",
      "source": [
        "Just like how we looked at the PACF plot for the number of AR terms, you can look at the ACF plot for the number of MA terms. An MA term is technically, the error of the lagged forecast.\n",
        "\n",
        "The ACF tells how many MA terms are required to remove any autocorrelation in the stationarized series.\n",
        "\n",
        "Let’s see the autocorrelation plot of the differenced series."
      ],
      "metadata": {
        "id": "HTdlki7JpY-B"
      }
    },
    {
      "cell_type": "code",
      "source": [
        "import pandas as pd\n",
        "from statsmodels.graphics.tsaplots import plot_acf, plot_pacf\n",
        "import matplotlib.pyplot as plt\n",
        "# \n",
        "plt.plot(df.TEUs)\n",
        "plot_acf(df.TEUs.dropna())\n",
        "\n",
        "plt.show()"
      ],
      "metadata": {
        "id": "fOOdAXDFnCll",
        "colab": {
          "base_uri": "https://localhost:8080/",
          "height": 545
        },
        "outputId": "20e64643-5c0e-4362-e1d6-0692467976bc"
      },
      "execution_count": 24,
      "outputs": [
        {
          "output_type": "display_data",
          "data": {
            "text/plain": [
              "<Figure size 420x300 with 1 Axes>"
            ],
            "image/png": "[encoded data removed]"
          },
          "metadata": {
            "needs_background": "light"
          }
        },
        {
          "output_type": "display_data",
          "data": {
            "text/plain": [
              "<Figure size 420x300 with 1 Axes>"
            ],
            "image/png": "[encoded data removed]"
          },
          "metadata": {
            "needs_background": "light"
          }
        }
      ]
    },
    {
      "cell_type": "markdown",
      "source": [
        "Couple of lags are well above the significance line. So, let’s tentatively fix q as ?"
      ],
      "metadata": {
        "id": "KjVaGs9hptfg"
      }
    },
    {
      "cell_type": "markdown",
      "source": [
        "\n",
        "# build the ARIMA Model"
      ],
      "metadata": {
        "id": "hUvJXkQFqfof"
      }
    },
    {
      "cell_type": "markdown",
      "source": [
        "Now that you’ve determined the values of **p, d and q**, you have everything needed to fit the ARIMA model. Let’s use the `ARIMA()` implementation in `statsmodels` package. "
      ],
      "metadata": {
        "id": "zbOZ4LuCqvRX"
      }
    },
    {
      "cell_type": "code",
      "source": [
        "from statsmodels.tsa.arima_model import ARIMA"
      ],
      "metadata": {
        "id": "4kSB1zx-ptTB"
      },
      "execution_count": 25,
      "outputs": []
    },
    {
      "cell_type": "code",
      "source": [
        "# 1,0,1 ARIMA Model\n",
        "model = ARIMA(df.TEUs, order=(1,1,1))\n",
        "model_fit = model.fit(disp=0)\n",
        "print(model_fit.summary())"
      ],
      "metadata": {
        "id": "gwqI8EYEq8B2",
        "colab": {
          "base_uri": "https://localhost:8080/",
          "height": 485
        },
        "outputId": "f6172577-c90b-46ad-84c8-531d2d71c1d9"
      },
      "execution_count": 29,
      "outputs": [
        {
          "output_type": "error",
          "ename": "NotImplementedError",
          "evalue": "ignored",
          "traceback": [
            "\u001b[0;31m---------------------------------------------------------------------------\u001b[0m",
            "\u001b[0;31mNotImplementedError\u001b[0m                       Traceback (most recent call last)",
            "\u001b[0;32m<ipython-input-29-08a4d2aa12c5>\u001b[0m in \u001b[0;36m<module>\u001b[0;34m()\u001b[0m\n\u001b[1;32m      1\u001b[0m \u001b[0;31m# 1,0,1 ARIMA Model\u001b[0m\u001b[0;34m\u001b[0m\u001b[0;34m\u001b[0m\u001b[0;34m\u001b[0m\u001b[0m\n\u001b[0;32m----> 2\u001b[0;31m \u001b[0mmodel\u001b[0m \u001b[0;34m=\u001b[0m \u001b[0mARIMA\u001b[0m\u001b[0;34m(\u001b[0m\u001b[0mdf\u001b[0m\u001b[0;34m.\u001b[0m\u001b[0mTEUs\u001b[0m\u001b[0;34m,\u001b[0m \u001b[0morder\u001b[0m\u001b[0;34m=\u001b[0m\u001b[0;34m(\u001b[0m\u001b[0;36m1\u001b[0m\u001b[0;34m,\u001b[0m\u001b[0;36m1\u001b[0m\u001b[0;34m,\u001b[0m\u001b[0;36m1\u001b[0m\u001b[0;34m)\u001b[0m\u001b[0;34m)\u001b[0m\u001b[0;34m\u001b[0m\u001b[0;34m\u001b[0m\u001b[0m\n\u001b[0m\u001b[1;32m      3\u001b[0m \u001b[0mmodel_fit\u001b[0m \u001b[0;34m=\u001b[0m \u001b[0mmodel\u001b[0m\u001b[0;34m.\u001b[0m\u001b[0mfit\u001b[0m\u001b[0;34m(\u001b[0m\u001b[0mdisp\u001b[0m\u001b[0;34m=\u001b[0m\u001b[0;36m0\u001b[0m\u001b[0;34m)\u001b[0m\u001b[0;34m\u001b[0m\u001b[0;34m\u001b[0m\u001b[0m\n\u001b[1;32m      4\u001b[0m \u001b[0mprint\u001b[0m\u001b[0;34m(\u001b[0m\u001b[0mmodel_fit\u001b[0m\u001b[0;34m.\u001b[0m\u001b[0msummary\u001b[0m\u001b[0;34m(\u001b[0m\u001b[0;34m)\u001b[0m\u001b[0;34m)\u001b[0m\u001b[0;34m\u001b[0m\u001b[0;34m\u001b[0m\u001b[0m\n",
            "\u001b[0;32m/usr/local/lib/python3.7/dist-packages/statsmodels/tsa/arima_model.py\u001b[0m in \u001b[0;36m__init__\u001b[0;34m(self, *args, **kwargs)\u001b[0m\n\u001b[1;32m     43\u001b[0m \u001b[0;34m\u001b[0m\u001b[0m\n\u001b[1;32m     44\u001b[0m     \u001b[0;32mdef\u001b[0m \u001b[0m__init__\u001b[0m\u001b[0;34m(\u001b[0m\u001b[0mself\u001b[0m\u001b[0;34m,\u001b[0m \u001b[0;34m*\u001b[0m\u001b[0margs\u001b[0m\u001b[0;34m,\u001b[0m \u001b[0;34m**\u001b[0m\u001b[0mkwargs\u001b[0m\u001b[0;34m)\u001b[0m\u001b[0;34m:\u001b[0m\u001b[0;34m\u001b[0m\u001b[0;34m\u001b[0m\u001b[0m\n\u001b[0;32m---> 45\u001b[0;31m         \u001b[0msuper\u001b[0m\u001b[0;34m(\u001b[0m\u001b[0;34m)\u001b[0m\u001b[0;34m.\u001b[0m\u001b[0m__init__\u001b[0m\u001b[0;34m(\u001b[0m\u001b[0;34m*\u001b[0m\u001b[0margs\u001b[0m\u001b[0;34m,\u001b[0m \u001b[0;34m**\u001b[0m\u001b[0mkwargs\u001b[0m\u001b[0;34m)\u001b[0m\u001b[0;34m\u001b[0m\u001b[0;34m\u001b[0m\u001b[0m\n\u001b[0m\u001b[1;32m     46\u001b[0m \u001b[0;34m\u001b[0m\u001b[0m\n\u001b[1;32m     47\u001b[0m \u001b[0;34m\u001b[0m\u001b[0m\n",
            "\u001b[0;32m/usr/local/lib/python3.7/dist-packages/statsmodels/tsa/arima_model.py\u001b[0m in \u001b[0;36m__init__\u001b[0;34m(self, *args, **kwargs)\u001b[0m\n\u001b[1;32m     27\u001b[0m \u001b[0;34m\u001b[0m\u001b[0m\n\u001b[1;32m     28\u001b[0m     \u001b[0;32mdef\u001b[0m \u001b[0m__init__\u001b[0m\u001b[0;34m(\u001b[0m\u001b[0mself\u001b[0m\u001b[0;34m,\u001b[0m \u001b[0;34m*\u001b[0m\u001b[0margs\u001b[0m\u001b[0;34m,\u001b[0m \u001b[0;34m**\u001b[0m\u001b[0mkwargs\u001b[0m\u001b[0;34m)\u001b[0m\u001b[0;34m:\u001b[0m\u001b[0;34m\u001b[0m\u001b[0;34m\u001b[0m\u001b[0m\n\u001b[0;32m---> 29\u001b[0;31m         \u001b[0;32mraise\u001b[0m \u001b[0mNotImplementedError\u001b[0m\u001b[0;34m(\u001b[0m\u001b[0mARIMA_DEPRECATION_ERROR\u001b[0m\u001b[0;34m)\u001b[0m\u001b[0;34m\u001b[0m\u001b[0;34m\u001b[0m\u001b[0m\n\u001b[0m\u001b[1;32m     30\u001b[0m \u001b[0;34m\u001b[0m\u001b[0m\n\u001b[1;32m     31\u001b[0m \u001b[0;34m\u001b[0m\u001b[0m\n",
            "\u001b[0;31mNotImplementedError\u001b[0m: \nstatsmodels.tsa.arima_model.ARMA and statsmodels.tsa.arima_model.ARIMA have\nbeen removed in favor of statsmodels.tsa.arima.model.ARIMA (note the .\nbetween arima and model) and statsmodels.tsa.SARIMAX.\n\nstatsmodels.tsa.arima.model.ARIMA makes use of the statespace framework and\nis both well tested and maintained. It also offers alternative specialized\nparameter estimators.\n"
          ]
        }
      ]
    },
    {
      "cell_type": "markdown",
      "source": [
        "The table in the middle is the coefficients table where the values under ‘coef’ are the weights of the respective terms.\n",
        "\n",
        "Notice here the coefficient of the MA2 term is close to zero and the P-Value in ‘P>|z|’ column is highly insignificant. It should ideally be less than 0.05 for the respective X to be significant."
      ],
      "metadata": {
        "id": "6kszqKZnr781"
      }
    },
    {
      "cell_type": "code",
      "source": [
        "# 1,1,1 ARIMA Model\n",
        "model = ARIMA(df.TEUs, order=(1,1,2))\n",
        "model_fit = model.fit(disp=0)\n",
        "print(model_fit.summary())"
      ],
      "metadata": {
        "id": "agAJ8Dj9sPGv",
        "colab": {
          "base_uri": "https://localhost:8080/",
          "height": 488
        },
        "outputId": "7571adfd-c0e6-4f15-9086-77171e7abf94"
      },
      "execution_count": 92,
      "outputs": [
        {
          "output_type": "stream",
          "name": "stderr",
          "text": [
            "/usr/local/lib/python3.7/dist-packages/statsmodels/tsa/base/tsa_model.py:219: ValueWarning: A date index has been provided, but it has no associated frequency information and so will be ignored when e.g. forecasting.\n",
            "  ' ignored when e.g. forecasting.', ValueWarning)\n",
            "/usr/local/lib/python3.7/dist-packages/statsmodels/tsa/base/tsa_model.py:219: ValueWarning: A date index has been provided, but it has no associated frequency information and so will be ignored when e.g. forecasting.\n",
            "  ' ignored when e.g. forecasting.', ValueWarning)\n"
          ]
        },
        {
          "output_type": "error",
          "ename": "ValueError",
          "evalue": "ignored",
          "traceback": [
            "\u001b[0;31m---------------------------------------------------------------------------\u001b[0m",
            "\u001b[0;31mValueError\u001b[0m                                Traceback (most recent call last)",
            "\u001b[0;32m<ipython-input-92-0a4c06b3fb73>\u001b[0m in \u001b[0;36m<module>\u001b[0;34m()\u001b[0m\n\u001b[1;32m      1\u001b[0m \u001b[0;31m# 1,1,1 ARIMA Model\u001b[0m\u001b[0;34m\u001b[0m\u001b[0;34m\u001b[0m\u001b[0;34m\u001b[0m\u001b[0m\n\u001b[1;32m      2\u001b[0m \u001b[0mmodel\u001b[0m \u001b[0;34m=\u001b[0m \u001b[0mARIMA\u001b[0m\u001b[0;34m(\u001b[0m\u001b[0mdf\u001b[0m\u001b[0;34m.\u001b[0m\u001b[0mTEUs\u001b[0m\u001b[0;34m,\u001b[0m \u001b[0morder\u001b[0m\u001b[0;34m=\u001b[0m\u001b[0;34m(\u001b[0m\u001b[0;36m1\u001b[0m\u001b[0;34m,\u001b[0m\u001b[0;36m1\u001b[0m\u001b[0;34m,\u001b[0m\u001b[0;36m2\u001b[0m\u001b[0;34m)\u001b[0m\u001b[0;34m)\u001b[0m\u001b[0;34m\u001b[0m\u001b[0;34m\u001b[0m\u001b[0m\n\u001b[0;32m----> 3\u001b[0;31m \u001b[0mmodel_fit\u001b[0m \u001b[0;34m=\u001b[0m \u001b[0mmodel\u001b[0m\u001b[0;34m.\u001b[0m\u001b[0mfit\u001b[0m\u001b[0;34m(\u001b[0m\u001b[0mdisp\u001b[0m\u001b[0;34m=\u001b[0m\u001b[0;36m0\u001b[0m\u001b[0;34m)\u001b[0m\u001b[0;34m\u001b[0m\u001b[0;34m\u001b[0m\u001b[0m\n\u001b[0m\u001b[1;32m      4\u001b[0m \u001b[0mprint\u001b[0m\u001b[0;34m(\u001b[0m\u001b[0mmodel_fit\u001b[0m\u001b[0;34m.\u001b[0m\u001b[0msummary\u001b[0m\u001b[0;34m(\u001b[0m\u001b[0;34m)\u001b[0m\u001b[0;34m)\u001b[0m\u001b[0;34m\u001b[0m\u001b[0;34m\u001b[0m\u001b[0m\n",
            "\u001b[0;32m/usr/local/lib/python3.7/dist-packages/statsmodels/tsa/arima_model.py\u001b[0m in \u001b[0;36mfit\u001b[0;34m(self, start_params, trend, method, transparams, solver, maxiter, full_output, disp, callback, start_ar_lags, **kwargs)\u001b[0m\n\u001b[1;32m   1147\u001b[0m                                            \u001b[0mmethod\u001b[0m\u001b[0;34m,\u001b[0m \u001b[0mtransparams\u001b[0m\u001b[0;34m,\u001b[0m \u001b[0msolver\u001b[0m\u001b[0;34m,\u001b[0m\u001b[0;34m\u001b[0m\u001b[0;34m\u001b[0m\u001b[0m\n\u001b[1;32m   1148\u001b[0m                                            \u001b[0mmaxiter\u001b[0m\u001b[0;34m,\u001b[0m \u001b[0mfull_output\u001b[0m\u001b[0;34m,\u001b[0m \u001b[0mdisp\u001b[0m\u001b[0;34m,\u001b[0m\u001b[0;34m\u001b[0m\u001b[0;34m\u001b[0m\u001b[0m\n\u001b[0;32m-> 1149\u001b[0;31m                                            callback, start_ar_lags, **kwargs)\n\u001b[0m\u001b[1;32m   1150\u001b[0m         \u001b[0mnormalized_cov_params\u001b[0m \u001b[0;34m=\u001b[0m \u001b[0;32mNone\u001b[0m  \u001b[0;31m# TODO: fix this?\u001b[0m\u001b[0;34m\u001b[0m\u001b[0;34m\u001b[0m\u001b[0m\n\u001b[1;32m   1151\u001b[0m         arima_fit = ARIMAResults(self, mlefit._results.params,\n",
            "\u001b[0;32m/usr/local/lib/python3.7/dist-packages/statsmodels/tsa/arima_model.py\u001b[0m in \u001b[0;36mfit\u001b[0;34m(self, start_params, trend, method, transparams, solver, maxiter, full_output, disp, callback, start_ar_lags, **kwargs)\u001b[0m\n\u001b[1;32m    936\u001b[0m         \u001b[0;32melse\u001b[0m\u001b[0;34m:\u001b[0m  \u001b[0;31m# estimate starting parameters\u001b[0m\u001b[0;34m\u001b[0m\u001b[0;34m\u001b[0m\u001b[0m\n\u001b[1;32m    937\u001b[0m             start_params = self._fit_start_params((k_ar, k_ma, k), method,\n\u001b[0;32m--> 938\u001b[0;31m                                                   start_ar_lags)\n\u001b[0m\u001b[1;32m    939\u001b[0m \u001b[0;34m\u001b[0m\u001b[0m\n\u001b[1;32m    940\u001b[0m         \u001b[0;32mif\u001b[0m \u001b[0mtransparams\u001b[0m\u001b[0;34m:\u001b[0m  \u001b[0;31m# transform initial parameters to ensure invertibility\u001b[0m\u001b[0;34m\u001b[0m\u001b[0;34m\u001b[0m\u001b[0m\n",
            "\u001b[0;32m/usr/local/lib/python3.7/dist-packages/statsmodels/tsa/arima_model.py\u001b[0m in \u001b[0;36m_fit_start_params\u001b[0;34m(self, order, method, start_ar_lags)\u001b[0m\n\u001b[1;32m    552\u001b[0m             \u001b[0mfunc\u001b[0m \u001b[0;34m=\u001b[0m \u001b[0;32mlambda\u001b[0m \u001b[0mparams\u001b[0m\u001b[0;34m:\u001b[0m \u001b[0;34m-\u001b[0m\u001b[0mself\u001b[0m\u001b[0;34m.\u001b[0m\u001b[0mloglike_css\u001b[0m\u001b[0;34m(\u001b[0m\u001b[0mparams\u001b[0m\u001b[0;34m)\u001b[0m\u001b[0;34m\u001b[0m\u001b[0;34m\u001b[0m\u001b[0m\n\u001b[1;32m    553\u001b[0m             \u001b[0;31m#start_params = [.1]*(k_ar+k_ma+k_exog) # different one for k?\u001b[0m\u001b[0;34m\u001b[0m\u001b[0;34m\u001b[0m\u001b[0;34m\u001b[0m\u001b[0m\n\u001b[0;32m--> 554\u001b[0;31m             \u001b[0mstart_params\u001b[0m \u001b[0;34m=\u001b[0m \u001b[0mself\u001b[0m\u001b[0;34m.\u001b[0m\u001b[0m_fit_start_params_hr\u001b[0m\u001b[0;34m(\u001b[0m\u001b[0morder\u001b[0m\u001b[0;34m,\u001b[0m \u001b[0mstart_ar_lags\u001b[0m\u001b[0;34m)\u001b[0m\u001b[0;34m\u001b[0m\u001b[0;34m\u001b[0m\u001b[0m\n\u001b[0m\u001b[1;32m    555\u001b[0m             \u001b[0;32mif\u001b[0m \u001b[0mself\u001b[0m\u001b[0;34m.\u001b[0m\u001b[0mtransparams\u001b[0m\u001b[0;34m:\u001b[0m\u001b[0;34m\u001b[0m\u001b[0;34m\u001b[0m\u001b[0m\n\u001b[1;32m    556\u001b[0m                 \u001b[0mstart_params\u001b[0m \u001b[0;34m=\u001b[0m \u001b[0mself\u001b[0m\u001b[0;34m.\u001b[0m\u001b[0m_invtransparams\u001b[0m\u001b[0;34m(\u001b[0m\u001b[0mstart_params\u001b[0m\u001b[0;34m)\u001b[0m\u001b[0;34m\u001b[0m\u001b[0;34m\u001b[0m\u001b[0m\n",
            "\u001b[0;32m/usr/local/lib/python3.7/dist-packages/statsmodels/tsa/arima_model.py\u001b[0m in \u001b[0;36m_fit_start_params_hr\u001b[0;34m(self, order, start_ar_lags)\u001b[0m\n\u001b[1;32m    531\u001b[0m         if p and not np.all(np.abs(np.roots(np.r_[1, -start_params[k:k + p]]\n\u001b[1;32m    532\u001b[0m                                             )) < 1):\n\u001b[0;32m--> 533\u001b[0;31m             raise ValueError(\"The computed initial AR coefficients are not \"\n\u001b[0m\u001b[1;32m    534\u001b[0m                              \u001b[0;34m\"stationary\\nYou should induce stationarity, \"\u001b[0m\u001b[0;34m\u001b[0m\u001b[0;34m\u001b[0m\u001b[0m\n\u001b[1;32m    535\u001b[0m                              \u001b[0;34m\"choose a different model order, or you can\\n\"\u001b[0m\u001b[0;34m\u001b[0m\u001b[0;34m\u001b[0m\u001b[0m\n",
            "\u001b[0;31mValueError\u001b[0m: The computed initial AR coefficients are not stationary\nYou should induce stationarity, choose a different model order, or you can\npass your own start_params."
          ]
        }
      ]
    },
    {
      "cell_type": "markdown",
      "source": [
        "The model AIC has reduced, which is good. The P Values of the AR1 and MA1 terms have improved and are highly significant (<< 0.05).\n",
        "\n",
        "Let’s plot the residuals to ensure there are no patterns (that is, look for constant mean and variance)."
      ],
      "metadata": {
        "id": "dwK_6zxMsUGV"
      }
    },
    {
      "cell_type": "code",
      "source": [
        "# Plot residual errors\n",
        "residuals = pd.DataFrame(model_fit.resid)\n",
        "fig, ax = plt.subplots(1,2)\n",
        "residuals.plot(title=\"Residuals\", ax=ax[0])\n",
        "residuals.plot(kind='kde', title='Density', ax=ax[1])\n",
        "plt.show()"
      ],
      "metadata": {
        "id": "ZgeOYbKAsVxe"
      },
      "execution_count": null,
      "outputs": []
    },
    {
      "cell_type": "markdown",
      "source": [
        "The residual errors seem fine with near zero mean and uniform variance. Let’s plot the actuals against the fitted values using `plot_predict()`."
      ],
      "metadata": {
        "id": "hDdhJATksZ4T"
      }
    },
    {
      "cell_type": "code",
      "source": [
        "# Actual vs Fitted\n",
        "model_fit.plot_predict(dynamic=False)\n",
        "plt.show()"
      ],
      "metadata": {
        "id": "rTMW6E9XsbBT"
      },
      "execution_count": null,
      "outputs": []
    },
    {
      "cell_type": "markdown",
      "source": [
        "When you set `dynamic=False` the in-sample lagged values are used for prediction.\n",
        "\n",
        "That is, the model gets trained up until the previous value to make the next prediction. This can make the fitted forecast and actuals look artificially good\n",
        "\n",
        "Can’t say that at this point because we haven’t actually forecasted into the future and compared the forecast with the actual performance.\n",
        "\n",
        "** But is that the best?**\n",
        "\n",
        "So, the real validation you need now is the Out-of-Time cross-validation"
      ],
      "metadata": {
        "id": "ahxQrsV3spij"
      }
    },
    {
      "cell_type": "markdown",
      "source": [
        "**find the optimal ARIMA model manually using Out-of-Time Cross validation**"
      ],
      "metadata": {
        "id": "QBO5gBctthRa"
      }
    },
    {
      "cell_type": "markdown",
      "source": [
        "In Out-of-Time cross-validation, you take few steps back in time and forecast into the future to as many steps you took back. Then you compare the forecast against the actuals.\n",
        "\n",
        "To do out-of-time cross-validation, you need to create the training and testing dataset by splitting the time series into 2 contiguous parts in approximately 75:25 ratio or a reasonable proportion based on time frequency of series."
      ],
      "metadata": {
        "id": "om5jcYM2tpe6"
      }
    },
    {
      "cell_type": "markdown",
      "source": [
        "*Why am I not sampling the training data randomly you ask?*\n",
        "\n",
        "That’s because the order sequence of the time series should be intact in order to use it for forecasting."
      ],
      "metadata": {
        "id": "60LjWLnitwzB"
      }
    },
    {
      "cell_type": "code",
      "source": [
        "from statsmodels.tsa.stattools import acf\n",
        "\n",
        "# Create Training and Test\n",
        "train = df.value[:85]\n",
        "test = df.value[85:]"
      ],
      "metadata": {
        "id": "w1-7-JzWteuS"
      },
      "execution_count": null,
      "outputs": []
    },
    {
      "cell_type": "code",
      "source": [
        "# Build Model\n",
        "# model = ARIMA(train, order=(3,2,1))  \n",
        "model = ARIMA(train, order=(1, 1, 1))  \n",
        "fitted = model.fit(disp=-1)  \n",
        "\n",
        "# Forecast\n",
        "fc, se, conf = fitted.forecast(15, alpha=0.05)  # 95% conf\n",
        "\n",
        "# Make as pandas series\n",
        "fc_series = pd.Series(fc, index=test.index)\n",
        "lower_series = pd.Series(conf[:, 0], index=test.index)\n",
        "upper_series = pd.Series(conf[:, 1], index=test.index)\n",
        "\n",
        "# Plot\n",
        "plt.figure(figsize=(12,5), dpi=100)\n",
        "plt.plot(train, label='training')\n",
        "plt.plot(test, label='actual')\n",
        "plt.plot(fc_series, label='forecast')\n",
        "plt.fill_between(lower_series.index, lower_series, upper_series, \n",
        "                 color='k', alpha=.15)\n",
        "plt.title('Forecast vs Actuals')\n",
        "plt.legend(loc='upper left', fontsize=8)\n",
        "plt.show()"
      ],
      "metadata": {
        "id": "hI1zCGHIt-sD"
      },
      "execution_count": null,
      "outputs": []
    },
    {
      "cell_type": "markdown",
      "source": [
        "**Forecast vs Actuals**"
      ],
      "metadata": {
        "id": "a2QDziRduAfj"
      }
    },
    {
      "cell_type": "markdown",
      "source": [
        "From the chart, the ARIMA(1,1,1) model seems to give a directionally correct forecast. And the actual observed values lie within the 95% confidence band. That seems fine."
      ],
      "metadata": {
        "id": "4Z8IhciP4Er7"
      }
    },
    {
      "cell_type": "markdown",
      "source": [
        "But each of the predicted forecasts is consistently below the actuals. That means, by adding a small constant to our forecast, the accuracy will certainly improve. So, there is definitely scope for improvement."
      ],
      "metadata": {
        "id": "OykInE-l4M_S"
      }
    },
    {
      "cell_type": "markdown",
      "source": [
        "So, what I am going to do is to increase the order of differencing to two, that is set `d=2` and iteratively increase `p` to up to `5` and then `q` up to `5` to see which model gives least AIC and also look for a chart that gives closer actuals and forecasts."
      ],
      "metadata": {
        "id": "jSjtEJpM4Sgi"
      }
    },
    {
      "cell_type": "markdown",
      "source": [
        "**While doing this, I keep an eye on the P values of the AR and MA terms in the model summary. They should be as close to zero, ideally, less than 0.05.**"
      ],
      "metadata": {
        "id": "j7ZvMor04ee5"
      }
    },
    {
      "cell_type": "code",
      "source": [
        "# Build Model\n",
        "model = ARIMA(train, order=(3, 2, 1))  \n",
        "fitted = model.fit(disp=-1)  \n",
        "print(fitted.summary())\n",
        "\n",
        "# Forecast\n",
        "fc, se, conf = fitted.forecast(15, alpha=0.05)  # 95% conf\n",
        "\n",
        "# Make as pandas series\n",
        "fc_series = pd.Series(fc, index=test.index)\n",
        "lower_series = pd.Series(conf[:, 0], index=test.index)\n",
        "upper_series = pd.Series(conf[:, 1], index=test.index)\n",
        "\n",
        "# Plot\n",
        "plt.figure(figsize=(12,5), dpi=100)\n",
        "plt.plot(train, label='training')\n",
        "plt.plot(test, label='actual')\n",
        "plt.plot(fc_series, label='forecast')\n",
        "plt.fill_between(lower_series.index, lower_series, upper_series, \n",
        "                 color='k', alpha=.15)\n",
        "plt.title('Forecast vs Actuals')\n",
        "plt.legend(loc='upper left', fontsize=8)\n",
        "plt.show()"
      ],
      "metadata": {
        "id": "FTigc7uiuBqJ"
      },
      "execution_count": null,
      "outputs": []
    },
    {
      "cell_type": "markdown",
      "source": [
        "The AIC has reduced to **440** from **515**. Good. The P-values of the X terms are less the < 0.05, which is great."
      ],
      "metadata": {
        "id": "37_GCsLp4j7J"
      }
    },
    {
      "cell_type": "markdown",
      "source": [
        "Ideally, you should go back multiple points in time, like, go back 1, 2, 3 and 4 quarters and see how your forecasts are performing at various points in the year."
      ],
      "metadata": {
        "id": "XOU9JR_A4v_R"
      }
    },
    {
      "cell_type": "markdown",
      "source": [
        "# Accuracy Metrics for Time Series Forecast"
      ],
      "metadata": {
        "id": "qFuRSXbs45h0"
      }
    },
    {
      "cell_type": "markdown",
      "source": [
        "* Mean Absolute Percentage Error (MAPE)\n",
        "* Mean Error (ME)\n",
        "* Mean Absolute Error (MAE)\n",
        "* Mean Percentage Error (MPE)\n",
        "* Root Mean Squared Error (RMSE)\n",
        "* Lag 1 Autocorrelation of Error (ACF1)\n",
        "* Correlation between the Actual and the Forecast (corr)\n",
        "* Min-Max Error (minmax)"
      ],
      "metadata": {
        "id": "mD6nVuLF483A"
      }
    },
    {
      "cell_type": "markdown",
      "source": [
        "*Typically, if you are comparing forecasts of two different series, the MAPE, Correlation and Min-Max Error can be used.*"
      ],
      "metadata": {
        "id": "JZGWjsHb5HVi"
      }
    },
    {
      "cell_type": "markdown",
      "source": [
        "Why not use the other metrics?\n",
        "\n",
        "Because only the above three are percentage errors that vary between 0 and 1. That way, you can judge how good is the forecast irrespective of the scale of the series.\n",
        "\n",
        "The other error metrics are quantities. That implies, an RMSE of 100 for a series whose mean is in 1000’s is better than an RMSE of 5 for series in 10’s. So, you can’t really use them to compare the forecasts of two different scaled time series."
      ],
      "metadata": {
        "id": "_rrrzP8z5OW4"
      }
    },
    {
      "cell_type": "code",
      "source": [
        "# Accuracy metrics\n",
        "def forecast_accuracy(forecast, actual):\n",
        "    mape = np.mean(np.abs(forecast - actual)/np.abs(actual))  # MAPE\n",
        "    me = np.mean(forecast - actual)             # ME\n",
        "    mae = np.mean(np.abs(forecast - actual))    # MAE\n",
        "    mpe = np.mean((forecast - actual)/actual)   # MPE\n",
        "    rmse = np.mean((forecast - actual)**2)**.5  # RMSE\n",
        "    corr = np.corrcoef(forecast, actual)[0,1]   # corr\n",
        "    mins = np.amin(np.hstack([forecast[:,None], \n",
        "                              actual[:,None]]), axis=1)\n",
        "    maxs = np.amax(np.hstack([forecast[:,None], \n",
        "                              actual[:,None]]), axis=1)\n",
        "    minmax = 1 - np.mean(mins/maxs)             # minmax\n",
        "    acf1 = acf(fc-test)[1]                      # ACF1\n",
        "    return({'mape':mape, 'me':me, 'mae': mae, \n",
        "            'mpe': mpe, 'rmse':rmse, 'acf1':acf1, \n",
        "            'corr':corr, 'minmax':minmax})\n",
        "\n",
        "forecast_accuracy(fc, test.values)"
      ],
      "metadata": {
        "id": "JgSV4HSk5BVK"
      },
      "execution_count": null,
      "outputs": []
    },
    {
      "cell_type": "markdown",
      "source": [
        ""
      ],
      "metadata": {
        "id": "2lUvDlAh5G9B"
      }
    }
  ],
  "metadata": {
    "colab": {
      "collapsed_sections": [],
      "name": "Time Series Forecasting in Python ( ARIMA model ).ipynb",
      "provenance": [],
      "authorship_tag": "ABX9TyOlwDeQzJQ/UhBhtCVUN+IU",
      "include_colab_link": true
    },
    "kernelspec": {
      "display_name": "Python 3",
      "name": "python3"
    },
    "language_info": {
      "name": "python"
    }
  },
  "nbformat": 4,
  "nbformat_minor": 0
}